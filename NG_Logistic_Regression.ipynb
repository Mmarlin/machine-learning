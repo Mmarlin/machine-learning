{
  "nbformat": 4,
  "nbformat_minor": 0,
  "metadata": {
    "colab": {
      "name": "NG_Logistic Regression ",
      "provenance": []
    },
    "kernelspec": {
      "name": "python3",
      "display_name": "Python 3"
    }
  },
  "cells": [
    {
      "cell_type": "code",
      "metadata": {
        "id": "9a3uUDLx8bwa",
        "colab_type": "code",
        "colab": {}
      },
      "source": [
        "import numpy as np\n",
        "import matplotlib.pyplot as plt\n",
        "import pandas as pd"
      ],
      "execution_count": 0,
      "outputs": []
    },
    {
      "cell_type": "code",
      "metadata": {
        "id": "7laX5NWN88j7",
        "colab_type": "code",
        "colab": {}
      },
      "source": [
        "from google.colab import drive #toimport google drive data"
      ],
      "execution_count": 0,
      "outputs": []
    },
    {
      "cell_type": "code",
      "metadata": {
        "id": "_2CWfhdv9B-d",
        "colab_type": "code",
        "outputId": "b4bda3f6-d4d2-4f08-b5b4-3db21a36181e",
        "colab": {
          "base_uri": "https://localhost:8080/",
          "height": 33
        }
      },
      "source": [
        "drive.mount('/content/drive') #to mount the drive data into colab clound and enterr the activation code"
      ],
      "execution_count": 58,
      "outputs": [
        {
          "output_type": "stream",
          "text": [
            "Drive already mounted at /content/drive; to attempt to forcibly remount, call drive.mount(\"/content/drive\", force_remount=True).\n"
          ],
          "name": "stdout"
        }
      ]
    },
    {
      "cell_type": "code",
      "metadata": {
        "id": "j8XprXvo9nQQ",
        "colab_type": "code",
        "outputId": "9e503cce-58cd-49b5-ad76-b241d0f0e186",
        "colab": {
          "base_uri": "https://localhost:8080/",
          "height": 33
        }
      },
      "source": [
        "cd /content/drive/\"My Drive\""
      ],
      "execution_count": 59,
      "outputs": [
        {
          "output_type": "stream",
          "text": [
            "/content/drive/My Drive\n"
          ],
          "name": "stdout"
        }
      ]
    },
    {
      "cell_type": "code",
      "metadata": {
        "id": "3ugeTuEb9rh6",
        "colab_type": "code",
        "outputId": "4bd1fea2-063b-4b69-f75b-38f73a0aa8c9",
        "colab": {
          "base_uri": "https://localhost:8080/",
          "height": 268
        }
      },
      "source": [
        "columnname=['X','Y','Z']\n",
        "dataset=pd.read_csv(\"NG Machine Learning/ex2data1.txt\",names=columnname)\n",
        "print(dataset)\n",
        "dataset.shape"
      ],
      "execution_count": 60,
      "outputs": [
        {
          "output_type": "stream",
          "text": [
            "            X          Y  Z\n",
            "0   34.623660  78.024693  0\n",
            "1   30.286711  43.894998  0\n",
            "2   35.847409  72.902198  0\n",
            "3   60.182599  86.308552  1\n",
            "4   79.032736  75.344376  1\n",
            "..        ...        ... ..\n",
            "95  83.489163  48.380286  1\n",
            "96  42.261701  87.103851  1\n",
            "97  99.315009  68.775409  1\n",
            "98  55.340018  64.931938  1\n",
            "99  74.775893  89.529813  1\n",
            "\n",
            "[100 rows x 3 columns]\n"
          ],
          "name": "stdout"
        },
        {
          "output_type": "execute_result",
          "data": {
            "text/plain": [
              "(100, 3)"
            ]
          },
          "metadata": {
            "tags": []
          },
          "execution_count": 60
        }
      ]
    },
    {
      "cell_type": "code",
      "metadata": {
        "id": "YkmELOjg_Nh4",
        "colab_type": "code",
        "outputId": "fb5644c4-e7d3-410f-d0ad-598aff8d5ca3",
        "colab": {
          "base_uri": "https://localhost:8080/",
          "height": 286
        }
      },
      "source": [
        "dataset.describe()"
      ],
      "execution_count": 61,
      "outputs": [
        {
          "output_type": "execute_result",
          "data": {
            "text/html": [
              "<div>\n",
              "<style scoped>\n",
              "    .dataframe tbody tr th:only-of-type {\n",
              "        vertical-align: middle;\n",
              "    }\n",
              "\n",
              "    .dataframe tbody tr th {\n",
              "        vertical-align: top;\n",
              "    }\n",
              "\n",
              "    .dataframe thead th {\n",
              "        text-align: right;\n",
              "    }\n",
              "</style>\n",
              "<table border=\"1\" class=\"dataframe\">\n",
              "  <thead>\n",
              "    <tr style=\"text-align: right;\">\n",
              "      <th></th>\n",
              "      <th>X</th>\n",
              "      <th>Y</th>\n",
              "      <th>Z</th>\n",
              "    </tr>\n",
              "  </thead>\n",
              "  <tbody>\n",
              "    <tr>\n",
              "      <th>count</th>\n",
              "      <td>100.000000</td>\n",
              "      <td>100.000000</td>\n",
              "      <td>100.000000</td>\n",
              "    </tr>\n",
              "    <tr>\n",
              "      <th>mean</th>\n",
              "      <td>65.644274</td>\n",
              "      <td>66.221998</td>\n",
              "      <td>0.600000</td>\n",
              "    </tr>\n",
              "    <tr>\n",
              "      <th>std</th>\n",
              "      <td>19.458222</td>\n",
              "      <td>18.582783</td>\n",
              "      <td>0.492366</td>\n",
              "    </tr>\n",
              "    <tr>\n",
              "      <th>min</th>\n",
              "      <td>30.058822</td>\n",
              "      <td>30.603263</td>\n",
              "      <td>0.000000</td>\n",
              "    </tr>\n",
              "    <tr>\n",
              "      <th>25%</th>\n",
              "      <td>50.919511</td>\n",
              "      <td>48.179205</td>\n",
              "      <td>0.000000</td>\n",
              "    </tr>\n",
              "    <tr>\n",
              "      <th>50%</th>\n",
              "      <td>67.032988</td>\n",
              "      <td>67.682381</td>\n",
              "      <td>1.000000</td>\n",
              "    </tr>\n",
              "    <tr>\n",
              "      <th>75%</th>\n",
              "      <td>80.212529</td>\n",
              "      <td>79.360605</td>\n",
              "      <td>1.000000</td>\n",
              "    </tr>\n",
              "    <tr>\n",
              "      <th>max</th>\n",
              "      <td>99.827858</td>\n",
              "      <td>98.869436</td>\n",
              "      <td>1.000000</td>\n",
              "    </tr>\n",
              "  </tbody>\n",
              "</table>\n",
              "</div>"
            ],
            "text/plain": [
              "                X           Y           Z\n",
              "count  100.000000  100.000000  100.000000\n",
              "mean    65.644274   66.221998    0.600000\n",
              "std     19.458222   18.582783    0.492366\n",
              "min     30.058822   30.603263    0.000000\n",
              "25%     50.919511   48.179205    0.000000\n",
              "50%     67.032988   67.682381    1.000000\n",
              "75%     80.212529   79.360605    1.000000\n",
              "max     99.827858   98.869436    1.000000"
            ]
          },
          "metadata": {
            "tags": []
          },
          "execution_count": 61
        }
      ]
    },
    {
      "cell_type": "code",
      "metadata": {
        "id": "raQSdzMYLyW8",
        "colab_type": "code",
        "colab": {}
      },
      "source": [
        "X=dataset.iloc[:,:-1].values\n",
        "y=dataset.iloc[:,-1].values"
      ],
      "execution_count": 0,
      "outputs": []
    },
    {
      "cell_type": "code",
      "metadata": {
        "id": "1U94qbHDMH1c",
        "colab_type": "code",
        "outputId": "2e945e56-db05-46d8-cbf7-d30299f1c3d2",
        "colab": {
          "base_uri": "https://localhost:8080/",
          "height": 100
        }
      },
      "source": [
        "y"
      ],
      "execution_count": 63,
      "outputs": [
        {
          "output_type": "execute_result",
          "data": {
            "text/plain": [
              "array([0, 0, 0, 1, 1, 0, 1, 1, 1, 1, 0, 0, 1, 1, 0, 1, 1, 0, 1, 1, 0, 1,\n",
              "       0, 0, 1, 1, 1, 0, 0, 0, 1, 1, 0, 1, 0, 0, 0, 1, 0, 0, 1, 0, 1, 0,\n",
              "       0, 0, 1, 1, 1, 1, 1, 1, 1, 0, 0, 0, 1, 0, 1, 1, 1, 0, 0, 0, 0, 0,\n",
              "       1, 0, 1, 1, 0, 1, 1, 1, 1, 1, 1, 1, 0, 0, 1, 1, 1, 1, 1, 1, 0, 1,\n",
              "       1, 0, 1, 1, 0, 1, 1, 1, 1, 1, 1, 1])"
            ]
          },
          "metadata": {
            "tags": []
          },
          "execution_count": 63
        }
      ]
    },
    {
      "cell_type": "code",
      "metadata": {
        "id": "BEeYI_Up_TE5",
        "colab_type": "code",
        "outputId": "a4eda7ae-301e-4cd7-ef74-6616dbc388aa",
        "colab": {
          "base_uri": "https://localhost:8080/",
          "height": 296
        }
      },
      "source": [
        "pos , neg = (y==1).reshape(100,1) , (y==0).reshape(100,1)\n",
        "plt.scatter(X[pos[:,0],0],X[pos[:,0],1],c=\"r\",marker=\"+\")\n",
        "plt.scatter(X[neg[:,0],0],X[neg[:,0],1],marker=\"o\",s=10)\n",
        "plt.xlabel(\"Exam 1 score\")\n",
        "plt.ylabel(\"Exam 2 score\")\n",
        "plt.legend([\"Admitted\",\"Not admitted\"],loc=0)"
      ],
      "execution_count": 83,
      "outputs": [
        {
          "output_type": "execute_result",
          "data": {
            "text/plain": [
              "<matplotlib.legend.Legend at 0x7fd8d1c61668>"
            ]
          },
          "metadata": {
            "tags": []
          },
          "execution_count": 83
        },
        {
          "output_type": "display_data",
          "data": {
            "image/png": "[encoded data removed]",
            "text/plain": [
              "<Figure size 432x288 with 1 Axes>"
            ]
          },
          "metadata": {
            "tags": []
          }
        }
      ]
    },
    {
      "cell_type": "code",
      "metadata": {
        "id": "qMhnKQZd1Xe_",
        "colab_type": "code",
        "colab": {}
      },
      "source": [
        ""
      ],
      "execution_count": 0,
      "outputs": []
    },
    {
      "cell_type": "code",
      "metadata": {
        "id": "FZ8QVGHYCaoz",
        "colab_type": "code",
        "outputId": "f93e67b5-003d-453e-ad0b-11d672d5b909",
        "colab": {
          "base_uri": "https://localhost:8080/",
          "height": 33
        }
      },
      "source": [
        "def sigmoid(z):    #the sigmoid function that differentiates logistic regression from linear regression\n",
        "    \"\"\"\n",
        "    return the sigmoid of z\n",
        "    \"\"\"\n",
        "    \n",
        "    return 1/ (1 + np.exp(-z))\n",
        "# testing the sigmoid function\n",
        "sigmoid(0)"
      ],
      "execution_count": 98,
      "outputs": [
        {
          "output_type": "execute_result",
          "data": {
            "text/plain": [
              "0.5"
            ]
          },
          "metadata": {
            "tags": []
          },
          "execution_count": 98
        }
      ]
    },
    {
      "cell_type": "code",
      "metadata": {
        "id": "2dudO5fCT0eg",
        "colab_type": "code",
        "colab": {}
      },
      "source": [
        "def costFunction(theta, X, y):            ##https://www.internalpointers.com/post/cost-function-logistic-regression\n",
        "    \"\"\"\n",
        "    Takes in numpy array theta, x and y and return the logistic regression cost function and gradient\n",
        "    \"\"\"\n",
        "    \n",
        "    m=len(y)\n",
        "    \n",
        "    predictions = sigmoid(np.dot(X,theta))          \n",
        "    error = (-y * np.log(predictions)) - ((1-y)*np.log(1-predictions))\n",
        "\n",
        "    cost = 1/m * sum(error)\n",
        "    \n",
        "    grad = 1/m * np.dot(X.transpose(),(predictions - y))\n",
        "    \n",
        "    return cost[0] , grad"
      ],
      "execution_count": 0,
      "outputs": []
    },
    {
      "cell_type": "code",
      "metadata": {
        "id": "mCaDH6p-9EjP",
        "colab_type": "code",
        "colab": {
          "base_uri": "https://localhost:8080/",
          "height": 33
        },
        "outputId": "7822ba1e-a527-4b2b-e793-c0a7af20e028"
      },
      "source": [
        "X.shape"
      ],
      "execution_count": 121,
      "outputs": [
        {
          "output_type": "execute_result",
          "data": {
            "text/plain": [
              "(100, 3)"
            ]
          },
          "metadata": {
            "tags": []
          },
          "execution_count": 121
        }
      ]
    },
    {
      "cell_type": "code",
      "metadata": {
        "id": "O2ohs-jCRF9J",
        "colab_type": "code",
        "outputId": "f8610bbe-bf1b-4772-fc8f-d5079e7afd30",
        "colab": {
          "base_uri": "https://localhost:8080/",
          "height": 84
        }
      },
      "source": [
        "m , n = X.shape[0], X.shape[1]\n",
        "X, X_mean, X_std = featureNormalization(X)\n",
        "X= np.append(np.ones((m,1)),X,axis=1)      #axis=1 is direction along column and axis 0 is direction along row\n",
        "y=y.reshape(m,1)\n",
        "initial_theta = np.zeros((n+1,1))\n",
        "cost, grad= costFunction(initial_theta,X,y)\n",
        "print(\"Cost of initial theta is\",cost)\n",
        "print(\"Gradient at initial theta (zeros):\",grad)"
      ],
      "execution_count": 116,
      "outputs": [
        {
          "output_type": "stream",
          "text": [
            "Cost of initial theta is 0.693147180559946\n",
            "Gradient at initial theta (zeros): [[-0.1       ]\n",
            " [-0.28122914]\n",
            " [-0.25098615]]\n"
          ],
          "name": "stdout"
        }
      ]
    },
    {
      "cell_type": "code",
      "metadata": {
        "id": "EiRHMceeRI2d",
        "colab_type": "code",
        "colab": {}
      },
      "source": [
        "def featureNormalization(X):\n",
        "    \"\"\"\n",
        "    Take in numpy array of X values and return normalize X values,\n",
        "    the mean and standard deviation of each feature\n",
        "    \"\"\"\n",
        "    mean=np.mean(X,axis=0)\n",
        "    std=np.std(X,axis=0)\n",
        "    \n",
        "    X_norm = (X - mean)/std\n",
        "    \n",
        "    return X_norm , mean , std"
      ],
      "execution_count": 0,
      "outputs": []
    },
    {
      "cell_type": "code",
      "metadata": {
        "id": "Rr7eCN7oRbU1",
        "colab_type": "code",
        "colab": {}
      },
      "source": [
        "def gradientDescent(X,y,theta,alpha,num_iters):\n",
        "    \"\"\"\n",
        "    Take in numpy array X, y and theta and update theta by taking num_iters gradient steps\n",
        "    with learning rate of alpha\n",
        "    \n",
        "    return theta and the list of the cost of theta during each iteration\n",
        "    \"\"\"\n",
        "    \n",
        "    m=len(y)\n",
        "    J_history =[]\n",
        "    \n",
        "    for i in range(num_iters):\n",
        "        cost, grad = costFunction(theta,X,y)\n",
        "        theta = theta - (alpha * grad)\n",
        "        J_history.append(cost)\n",
        "    \n",
        "    return theta , J_history"
      ],
      "execution_count": 0,
      "outputs": []
    },
    {
      "cell_type": "code",
      "metadata": {
        "id": "Rg1voB6DSITf",
        "colab_type": "code",
        "colab": {}
      },
      "source": [
        "theta , J_history = gradientDescent(X,y,initial_theta,0.5,800)\n"
      ],
      "execution_count": 0,
      "outputs": []
    },
    {
      "cell_type": "code",
      "metadata": {
        "id": "ryIhgucYXjqg",
        "colab_type": "code",
        "colab": {
          "base_uri": "https://localhost:8080/",
          "height": 67
        },
        "outputId": "90dd4b66-0f44-445d-cc07-43b90ed2a0e1"
      },
      "source": [
        "theta"
      ],
      "execution_count": 125,
      "outputs": [
        {
          "output_type": "execute_result",
          "data": {
            "text/plain": [
              "array([[0.6722732 ],\n",
              "       [1.77602939],\n",
              "       [1.60262573]])"
            ]
          },
          "metadata": {
            "tags": []
          },
          "execution_count": 125
        }
      ]
    },
    {
      "cell_type": "code",
      "metadata": {
        "id": "6cXgB6yfXlun",
        "colab_type": "code",
        "colab": {
          "base_uri": "https://localhost:8080/",
          "height": 1000
        },
        "outputId": "d9f4fb13-dd7e-417b-bc78-d42979f642b6"
      },
      "source": [
        "J_history"
      ],
      "execution_count": 126,
      "outputs": [
        {
          "output_type": "execute_result",
          "data": {
            "text/plain": [
              "[0.693147180559946,\n",
              " 0.6855894675711963,\n",
              " 0.6782153888526379,\n",
              " 0.6710203905223747,\n",
              " 0.6639999648517432,\n",
              " 0.6571496567868919,\n",
              " 0.6504650698186558,\n",
              " 0.6439418712213744,\n",
              " 0.637575796684609,\n",
              " 0.6313626543643124,\n",
              " 0.6252983283820565,\n",
              " 0.6193787818023787,\n",
              " 0.6136000591192986,\n",
              " 0.6079582882835716,\n",
              " 0.6024496823023865,\n",
              " 0.5970705404430042,\n",
              " 0.5918172490713234,\n",
              " 0.5866862821556196,\n",
              " 0.5816742014647508,\n",
              " 0.5767776564890091,\n",
              " 0.5719933841105561,\n",
              " 0.5673182080490676,\n",
              " 0.5627490381067937,\n",
              " 0.558282869235843,\n",
              " 0.5539167804490226,\n",
              " 0.5496479335941461,\n",
              " 0.5454735720102891,\n",
              " 0.5413910190830745,\n",
              " 0.5373976767147287,\n",
              " 0.5334910237233443,\n",
              " 0.5296686141845341,\n",
              " 0.5259280757274936,\n",
              " 0.522267107796344,\n",
              " 0.518683479886599,\n",
              " 0.5151750297655859,\n",
              " 0.5117396616847395,\n",
              " 0.5083753445908278,\n",
              " 0.5050801103423617,\n",
              " 0.5018520519367174,\n",
              " 0.49868932175281344,\n",
              " 0.4955901298135648,\n",
              " 0.4925527420717707,\n",
              " 0.48957547872257173,\n",
              " 0.4866567125451389,\n",
              " 0.4837948672758298,\n",
              " 0.4809884160146672,\n",
              " 0.47823587966663733,\n",
              " 0.4755358254190008,\n",
              " 0.47288686525551904,\n",
              " 0.47028765450826643,\n",
              " 0.467736890447456,\n",
              " 0.46523331090952386,\n",
              " 0.46277569296354154,\n",
              " 0.4603628516158668,\n",
              " 0.457993638552817,\n",
              " 0.4556669409210343,\n",
              " 0.4533816801451027,\n",
              " 0.4511368107819053,\n",
              " 0.4489313194111237,\n",
              " 0.44676422356123197,\n",
              " 0.4446345706702745,\n",
              " 0.44254143708069266,\n",
              " 0.4404839270674111,\n",
              " 0.4384611718983883,\n",
              " 0.43647232892680216,\n",
              " 0.4345165807140344,\n",
              " 0.432593134182612,\n",
              " 0.4307012197982506,\n",
              " 0.4288400907801519,\n",
              " 0.42700902233871296,\n",
              " 0.42520731093980013,\n",
              " 0.42343427359475966,\n",
              " 0.4216892471753465,\n",
              " 0.4199715877527598,\n",
              " 0.418280669959993,\n",
              " 0.4166158863767225,\n",
              " 0.41497664693597125,\n",
              " 0.4133623783518035,\n",
              " 0.4117725235673304,\n",
              " 0.4102065412223091,\n",
              " 0.40866390513966133,\n",
              " 0.40714410383022775,\n",
              " 0.4056466400151226,\n",
              " 0.40417103016504785,\n",
              " 0.40271680405596444,\n",
              " 0.4012835043405213,\n",
              " 0.399870686134676,\n",
              " 0.3984779166189509,\n",
              " 0.3971047746537868,\n",
              " 0.395750850408482,\n",
              " 0.3944157450032102,\n",
              " 0.3930990701636424,\n",
              " 0.39180044788770113,\n",
              " 0.39051951012400327,\n",
              " 0.3892558984615516,\n",
              " 0.3880092638302676,\n",
              " 0.38677926621195396,\n",
              " 0.3855655743613079,\n",
              " 0.38436786553660235,\n",
              " 0.3831858252396891,\n",
              " 0.3820191469649631,\n",
              " 0.3808675319569698,\n",
              " 0.3797306889763234,\n",
              " 0.3786083340736349,\n",
              " 0.37750019037115123,\n",
              " 0.37640598785181956,\n",
              " 0.3753254631555046,\n",
              " 0.3742583593820919,\n",
              " 0.3732044259012273,\n",
              " 0.37216341816844384,\n",
              " 0.3711350975474464,\n",
              " 0.3701192311383255,\n",
              " 0.3691155916114828,\n",
              " 0.36812395704705964,\n",
              " 0.36714411077967357,\n",
              " 0.3661758412482612,\n",
              " 0.36521894185084713,\n",
              " 0.36427321080406017,\n",
              " 0.3633384510072267,\n",
              " 0.362414469910871,\n",
              " 0.3615010793894699,\n",
              " 0.3605980956183077,\n",
              " 0.35970533895428153,\n",
              " 0.35882263382052154,\n",
              " 0.3579498085946855,\n",
              " 0.35708669550080063,\n",
              " 0.3562331305045261,\n",
              " 0.3553889532117154,\n",
              " 0.3545540067701618,\n",
              " 0.3537281377744179,\n",
              " 0.3529111961735801,\n",
              " 0.3521030351819333,\n",
              " 0.3513035111923587,\n",
              " 0.350512483692409,\n",
              " 0.3497298151829582,\n",
              " 0.3489553710993342,\n",
              " 0.34818901973485733,\n",
              " 0.34743063216669434,\n",
              " 0.34668008218395097,\n",
              " 0.34593724621793115,\n",
              " 0.34520200327448414,\n",
              " 0.34447423486837125,\n",
              " 0.3437538249595868,\n",
              " 0.34304065989156207,\n",
              " 0.3423346283311953,\n",
              " 0.34163562121064195,\n",
              " 0.3409435316708104,\n",
              " 0.3402582550065062,\n",
              " 0.33957968861316756,\n",
              " 0.3389077319351425,\n",
              " 0.33824228641545845,\n",
              " 0.33758325544703144,\n",
              " 0.33693054432527125,\n",
              " 0.3362840602020367,\n",
              " 0.3356437120408976,\n",
              " 0.3350094105736593,\n",
              " 0.33438106825811376,\n",
              " 0.3337585992369715,\n",
              " 0.33314191929794407,\n",
              " 0.332530945834936,\n",
              " 0.3319255978103102,\n",
              " 0.3313257957181975,\n",
              " 0.330731461548814,\n",
              " 0.33014251875375566,\n",
              " 0.32955889221223955,\n",
              " 0.3289805081982635,\n",
              " 0.32840729434865296,\n",
              " 0.32783917963197196,\n",
              " 0.3272760943182672,\n",
              " 0.32671796994962243,\n",
              " 0.32616473931149714,\n",
              " 0.3256163364048281,\n",
              " 0.32507269641886644,\n",
              " 0.32453375570473164,\n",
              " 0.32399945174966016,\n",
              " 0.32346972315192524,\n",
              " 0.32294450959641396,\n",
              " 0.3224237518308324,\n",
              " 0.3219073916425319,\n",
              " 0.3213953718359271,\n",
              " 0.3208876362104963,\n",
              " 0.32038412953934275,\n",
              " 0.31988479754830146,\n",
              " 0.31938958689557834,\n",
              " 0.3188984451518993,\n",
              " 0.3184113207811635,\n",
              " 0.31792816312157973,\n",
              " 0.3174489223672738,\n",
              " 0.316973549550354,\n",
              " 0.3165019965234226,\n",
              " 0.31603421594251685,\n",
              " 0.31557016125047327,\n",
              " 0.3151097866606956,\n",
              " 0.3146530471413231,\n",
              " 0.3141998983997829,\n",
              " 0.3137502968677158,\n",
              " 0.31330419968626855,\n",
              " 0.312861564691738,\n",
              " 0.312422350401561,\n",
              " 0.31198651600063865,\n",
              " 0.3115540213279867,\n",
              " 0.31112482686370074,\n",
              " 0.31069889371623277,\n",
              " 0.3102761836099645,\n",
              " 0.3098566588730739,\n",
              " 0.3094402824256847,\n",
              " 0.30902701776829256,\n",
              " 0.308616828970459,\n",
              " 0.3082096806597685,\n",
              " 0.3078055380110389,\n",
              " 0.3074043667357793,\n",
              " 0.3070061330718904,\n",
              " 0.3066108037735992,\n",
              " 0.3062183461016226,\n",
              " 0.3058287278135519,\n",
              " 0.305441917154459,\n",
              " 0.3050578828477076,\n",
              " 0.30467659408597547,\n",
              " 0.3042980205224746,\n",
              " 0.30392213226236736,\n",
              " 0.3035488998543723,\n",
              " 0.3031782942825573,\n",
              " 0.3028102869583109,\n",
              " 0.3024448497124925,\n",
              " 0.30208195478775185,\n",
              " 0.3017215748310172,\n",
              " 0.3013636828861463,\n",
              " 0.30100825238673745,\n",
              " 0.300655257149093,\n",
              " 0.3003046713653379,\n",
              " 0.29995646959668165,\n",
              " 0.2996106267668277,\n",
              " 0.299267118155521,\n",
              " 0.2989259193922326,\n",
              " 0.2985870064499785,\n",
              " 0.29825035563926827,\n",
              " 0.2979159436021809,\n",
              " 0.29758374730656406,\n",
              " 0.29725374404035565,\n",
              " 0.29692591140602204,\n",
              " 0.2966002273151118,\n",
              " 0.29627666998292307,\n",
              " 0.2959552179232788,\n",
              " 0.2956358499434117,\n",
              " 0.29531854513895045,\n",
              " 0.2950032828890116,\n",
              " 0.29469004285138845,\n",
              " 0.29437880495783936,\n",
              " 0.2940695494094698,\n",
              " 0.29376225667220796,\n",
              " 0.29345690747237035,\n",
              " 0.293153482792318,\n",
              " 0.2928519638661964,\n",
              " 0.29255233217576276,\n",
              " 0.29225456944629336,\n",
              " 0.2919586576425746,\n",
              " 0.2916645789649696,\n",
              " 0.29137231584556494,\n",
              " 0.2910818509443908,\n",
              " 0.29079316714571574,\n",
              " 0.2905062475544128,\n",
              " 0.2902210754923964,\n",
              " 0.28993763449512816,\n",
              " 0.2896559083081897,\n",
              " 0.28937588088392097,\n",
              " 0.28909753637812324,\n",
              " 0.28882085914682576,\n",
              " 0.28854583374311105,\n",
              " 0.28827244491400456,\n",
              " 0.2880006775974188,\n",
              " 0.2877305169191589,\n",
              " 0.2874619481899811,\n",
              " 0.28719495690270863,\n",
              " 0.2869295287294001,\n",
              " 0.2866656495185712,\n",
              " 0.286403305292468,\n",
              " 0.2861424822443897,\n",
              " 0.28588316673606257,\n",
              " 0.28562534529505984,\n",
              " 0.28536900461227144,\n",
              " 0.2851141315394177,\n",
              " 0.28486071308660993,\n",
              " 0.2846087364199533,\n",
              " 0.2843581888591974,\n",
              " 0.28410905787542295,\n",
              " 0.28386133108877626,\n",
              " 0.28361499626623976,\n",
              " 0.283370041319446,\n",
              " 0.2831264543025278,\n",
              " 0.2828842234100079,\n",
              " 0.282643336974727,\n",
              " 0.2824037834658063,\n",
              " 0.2821655514866483,\n",
              " 0.28192862977296984,\n",
              " 0.2816930071908738,\n",
              " 0.28145867273495034,\n",
              " 0.2812256155264135,\n",
              " 0.2809938248112701,\n",
              " 0.2807632899585195,\n",
              " 0.2805340004583854,\n",
              " 0.2803059459205781,\n",
              " 0.28007911607258473,\n",
              " 0.2798535007579923,\n",
              " 0.279629089934836,\n",
              " 0.27940587367397823,\n",
              " 0.27918384215751285,\n",
              " 0.2789629856771989,\n",
              " 0.2787432946329179,\n",
              " 0.2785247595311613,\n",
              " 0.2783073709835384,\n",
              " 0.27809111970531364,\n",
              " 0.27787599651396483,\n",
              " 0.27766199232776856,\n",
              " 0.27744909816440666,\n",
              " 0.2772373051395974,\n",
              " 0.2770266044657477,\n",
              " 0.27681698745062894,\n",
              " 0.276608445496075,\n",
              " 0.27640097009669967,\n",
              " 0.276194552838636,\n",
              " 0.2759891853982968,\n",
              " 0.2757848595411556,\n",
              " 0.2755815671205446,\n",
              " 0.27537930007647626,\n",
              " 0.2751780504344802,\n",
              " 0.2749778103044611,\n",
              " 0.2747785718795736,\n",
              " 0.27458032743511684,\n",
              " 0.27438306932744383,\n",
              " 0.274186789992892,\n",
              " 0.273991481946727,\n",
              " 0.2737971377821057,\n",
              " 0.2736037501690544,\n",
              " 0.2734113118534642,\n",
              " 0.27321981565610043,\n",
              " 0.27302925447162923,\n",
              " 0.2728396212676589,\n",
              " 0.2726509090837957,\n",
              " 0.2724631110307148,\n",
              " 0.2722762202892453,\n",
              " 0.27209023010946953,\n",
              " 0.27190513380983744,\n",
              " 0.2717209247762917,\n",
              " 0.2715375964614095,\n",
              " 0.27135514238355557,\n",
              " 0.2711735561260482,\n",
              " 0.2709928313363391,\n",
              " 0.27081296172520414,\n",
              " 0.2706339410659476,\n",
              " 0.2704557631936188,\n",
              " 0.2702784220042378,\n",
              " 0.27010191145403695,\n",
              " 0.26992622555871004,\n",
              " 0.2697513583926751,\n",
              " 0.26957730408834696,\n",
              " 0.269404056835421,\n",
              " 0.269231610880168,\n",
              " 0.269059960524738,\n",
              " 0.268889100126477,\n",
              " 0.26871902409725057,\n",
              " 0.26854972690278034,\n",
              " 0.2683812030619877,\n",
              " 0.2682134471463497,\n",
              " 0.26804645377926173,\n",
              " 0.267880217635411,\n",
              " 0.2677147334401596,\n",
              " 0.2675499959689348,\n",
              " 0.2673860000466297,\n",
              " 0.26722274054701134,\n",
              " 0.2670602123921385,\n",
              " 0.26689841055178726,\n",
              " 0.26673733004288386,\n",
              " 0.2665769659289481,\n",
              " 0.2664173133195419,\n",
              " 0.2662583673697269,\n",
              " 0.2661001232795316,\n",
              " 0.26594257629342166,\n",
              " 0.2657857216997822,\n",
              " 0.26562955483040496,\n",
              " 0.2654740710599825,\n",
              " 0.2653192658056108,\n",
              " 0.26516513452629814,\n",
              " 0.26501167272248066,\n",
              " 0.26485887593554486,\n",
              " 0.2647067397473564,\n",
              " 0.2645552597797967,\n",
              " 0.2644044316943038,\n",
              " 0.2642542511914213,\n",
              " 0.2641047140103535,\n",
              " 0.2639558159285247,\n",
              " 0.26380755276114687,\n",
              " 0.26365992036079244,\n",
              " 0.26351291461697235,\n",
              " 0.2633665314557198,\n",
              " 0.2632207668391808,\n",
              " 0.26307561676520913,\n",
              " 0.26293107726696713,\n",
              " 0.26278714441253226,\n",
              " 0.26264381430450817,\n",
              " 0.2625010830796417]"
            ]
          },
          "metadata": {
            "tags": []
          },
          "execution_count": 126
        }
      ]
    },
    {
      "cell_type": "code",
      "metadata": {
        "id": "ILo1DH3uXo88",
        "colab_type": "code",
        "colab": {
          "base_uri": "https://localhost:8080/",
          "height": 312
        },
        "outputId": "7b5185b2-3f64-4f49-862d-21c3080aafa6"
      },
      "source": [
        "plt.plot(J_history)\n",
        "plt.xlabel(\"Iteration\")\n",
        "plt.ylabel(\"$J(\\Theta)$\")\n",
        "plt.title(\"Cost function using Gradient Descent\")"
      ],
      "execution_count": 144,
      "outputs": [
        {
          "output_type": "execute_result",
          "data": {
            "text/plain": [
              "Text(0.5, 1.0, 'Cost function using Gradient Descent')"
            ]
          },
          "metadata": {
            "tags": []
          },
          "execution_count": 144
        },
        {
          "output_type": "display_data",
          "data": {
            "image/png": "[encoded data removed]",
            "text/plain": [
              "<Figure size 432x288 with 1 Axes>"
            ]
          },
          "metadata": {
            "tags": []
          }
        }
      ]
    },
    {
      "cell_type": "code",
      "metadata": {
        "id": "jrLxCJCkX6HW",
        "colab_type": "code",
        "colab": {
          "base_uri": "https://localhost:8080/",
          "height": 299
        },
        "outputId": "f3867970-1d3f-4ec6-ff94-2b79e0c0b12e"
      },
      "source": [
        "plt.scatter(X[pos[:,0],1],X[pos[:,0],2],c=\"r\",marker=\"+\",label=\"Admitted\")\n",
        "plt.scatter(X[neg[:,0],1],X[neg[:,0],2],c=\"b\",marker=\"x\",label=\"Not admitted\")\n",
        "x_value= np.array([np.min(X[:,1]),np.max(X[:,1])])\n",
        "y_value=-(theta[0] +theta[1]*x_value)/theta[2]\n",
        "plt.plot(x_value,y_value, \"g\")\n",
        "plt.xlabel(\"Exam 1 score\")\n",
        "plt.ylabel(\"Exam 2 score\")\n",
        "plt.legend(loc=0)"
      ],
      "execution_count": 145,
      "outputs": [
        {
          "output_type": "execute_result",
          "data": {
            "text/plain": [
              "<matplotlib.legend.Legend at 0x7fd8d1399748>"
            ]
          },
          "metadata": {
            "tags": []
          },
          "execution_count": 145
        },
        {
          "output_type": "display_data",
          "data": {
            "image/png": "[encoded data removed]",
            "text/plain": [
              "<Figure size 432x288 with 1 Axes>"
            ]
          },
          "metadata": {
            "tags": []
          }
        }
      ]
    },
    {
      "cell_type": "code",
      "metadata": {
        "id": "sn3LHGilYBnE",
        "colab_type": "code",
        "colab": {
          "base_uri": "https://localhost:8080/",
          "height": 33
        },
        "outputId": "69dd239d-ff2f-44f0-cdad-0d2d5613b002"
      },
      "source": [
        "x_test = np.array([45,85])\n",
        "x_test = (x_test - X_mean)/X_std\n",
        "x_test = np.append(np.ones(1),x_test)\n",
        "prob = sigmoid(x_test.dot(theta))\n",
        "print(\"For a student with scores 45 and 85, we predict an admission probability of\",prob[0])"
      ],
      "execution_count": 146,
      "outputs": [
        {
          "output_type": "stream",
          "text": [
            "For a student with scores 45 and 85, we predict an admission probability of 0.7676838497993853\n"
          ],
          "name": "stdout"
        }
      ]
    },
    {
      "cell_type": "code",
      "metadata": {
        "id": "b_zBnzy7YN3o",
        "colab_type": "code",
        "colab": {}
      },
      "source": [
        "def classifierPredict(theta,X):\n",
        "    \"\"\"\n",
        "    take in numpy array of theta and X and predict the class \n",
        "    \"\"\"\n",
        "    predictions = X.dot(theta)\n",
        "    \n",
        "    return predictions>0"
      ],
      "execution_count": 0,
      "outputs": []
    },
    {
      "cell_type": "code",
      "metadata": {
        "id": "OmZggh4YYRv0",
        "colab_type": "code",
        "colab": {
          "base_uri": "https://localhost:8080/",
          "height": 33
        },
        "outputId": "7998152c-8124-4e21-d8db-72facca30917"
      },
      "source": [
        "p=classifierPredict(theta,X)\n",
        "print(\"Train Accuracy:\", sum(p==y)[0],\"%\")"
      ],
      "execution_count": 151,
      "outputs": [
        {
          "output_type": "stream",
          "text": [
            "Train Accuracy: 89 %\n"
          ],
          "name": "stdout"
        }
      ]
    }
  ]
}