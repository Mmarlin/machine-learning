{
  "nbformat": 4,
  "nbformat_minor": 0,
  "metadata": {
    "colab": {
      "name": "linear regression_NG.ipynb",
      "provenance": [],
      "collapsed_sections": []
    },
    "kernelspec": {
      "name": "python3",
      "display_name": "Python 3"
    }
  },
  "cells": [
    {
      "cell_type": "code",
      "metadata": {
        "id": "uW5FpdybYNIf",
        "colab_type": "code",
        "colab": {}
      },
      "source": [
        "import numpy as np\n",
        "import matplotlib.pyplot as plt\n",
        "import pandas as pd"
      ],
      "execution_count": 0,
      "outputs": []
    },
    {
      "cell_type": "code",
      "metadata": {
        "id": "fucS-picYWhK",
        "colab_type": "code",
        "colab": {}
      },
      "source": [
        "from google.colab import drive #toimport google drive data"
      ],
      "execution_count": 0,
      "outputs": []
    },
    {
      "cell_type": "code",
      "metadata": {
        "id": "MHCkPra0YzRY",
        "colab_type": "code",
        "outputId": "fdb525ba-863a-45d0-b04c-e649583a8621",
        "colab": {
          "base_uri": "https://localhost:8080/",
          "height": 33
        }
      },
      "source": [
        "drive.mount('/content/drive') #to mount the drive data into colab clound and enterr the activation code"
      ],
      "execution_count": 0,
      "outputs": [
        {
          "output_type": "stream",
          "text": [
            "Drive already mounted at /content/drive; to attempt to forcibly remount, call drive.mount(\"/content/drive\", force_remount=True).\n"
          ],
          "name": "stdout"
        }
      ]
    },
    {
      "cell_type": "code",
      "metadata": {
        "id": "nJbBmCdRZ203",
        "colab_type": "code",
        "outputId": "87cffdfa-7262-46eb-b374-08c040c790df",
        "colab": {
          "base_uri": "https://localhost:8080/",
          "height": 33
        }
      },
      "source": [
        "cd /content/drive/\"My Drive\""
      ],
      "execution_count": 0,
      "outputs": [
        {
          "output_type": "stream",
          "text": [
            "/content/drive/My Drive\n"
          ],
          "name": "stdout"
        }
      ]
    },
    {
      "cell_type": "code",
      "metadata": {
        "id": "vLww8ZocZ9tX",
        "colab_type": "code",
        "colab": {}
      },
      "source": [
        "#this changes the directory tothe drive"
      ],
      "execution_count": 0,
      "outputs": []
    },
    {
      "cell_type": "code",
      "metadata": {
        "id": "RJR3uNe4aDDh",
        "colab_type": "code",
        "outputId": "b13d37b6-1bc6-4fe8-c5ba-11d26dba094e",
        "colab": {
          "base_uri": "https://localhost:8080/",
          "height": 1000
        }
      },
      "source": [
        "ls"
      ],
      "execution_count": 0,
      "outputs": [
        {
          "output_type": "stream",
          "text": [
            " 121.pdf\n",
            " 123.JPG\n",
            " abc.txt\n",
            "'Admit card_ISRO.pdf'\n",
            " A.gform\n",
            " Algorithms.zip\n",
            "'ansi c_balaguruswamy.pdf'\n",
            " arm_inst.pdf\n",
            "\u001b[0m\u001b[01;34m'Autocad EDW'\u001b[0m/\n",
            "\u001b[01;34m'Autocad Exam Group 3'\u001b[0m/\n",
            "'Chimp1_small_0 (1).jpg'\n",
            " Chimp1_small_0.jpg\n",
            " \u001b[01;34mClassroom\u001b[0m/\n",
            " code.gdoc\n",
            "\u001b[01;34m'Colab Notebooks'\u001b[0m/\n",
            "\u001b[01;34m'Common Papers'\u001b[0m/\n",
            " \u001b[01;34mConvocation\u001b[0m/\n",
            "'CPS_2017_Lecture Recording (1).xlsx.gsheet'\n",
            "'CPS_2017_Lecture Recording (2).xlsx.gsheet'\n",
            "'CPS_2017_Lecture Recording (3).xlsx.gsheet'\n",
            "'CPS_2017_Lecture Recording (4).xlsx.gsheet'\n",
            "'CPS_2017_Lecture Recording (5).xlsx.gsheet'\n",
            "'CPS_2017_Lecture Recording (6).xlsx.gsheet'\n",
            "'CPS_2017_Lecture Recording (7).xlsx.gsheet'\n",
            "'CPS_2017_Lecture Recording.xlsx.gsheet'\n",
            "'cryptography 4th edition.pdf'\n",
            "\u001b[01;34m'dda details'\u001b[0m/\n",
            "'Digital Electronics Project Groups.gform'\n",
            "'Douglas B. West-Introduction to Graph Theory (2nd Edition)(With Solution Manual)%20 -Prentice Hall (2000).pdf'\n",
            " download\n",
            " download.gdoc\n",
            " \u001b[01;34mEbooks\u001b[0m/\n",
            "\u001b[01;34m'GCam_6.1.021_V1.4.032219.apk (Unzipped Files)'\u001b[0m/\n",
            " \u001b[01;34mhousing\u001b[0m/\n",
            "'IEEE International MYOSA Students contest-SENSORS 2018.gdoc'\n",
            "'IEEE International MYOSA Students contest-SENSORS 2018.pdf'\n",
            "'IoT Components Not received.gsheet'\n",
            "'IoT Course Project Groups.gform'\n",
            "'IoT Project List.gsheet'\n",
            "'Lab 2_submission.zip'\n",
            "'Lab Viva - EDW.pdf'\n",
            "\u001b[01;34m'Laptop key'\u001b[0m/\n",
            " let-us-c-solutions.pdf\n",
            "'Let Us C  Yashwant Kanetkar - 5th Edition.pdf'\n",
            "'LG Soft Papers.gform'\n",
            " \u001b[01;34mMPU6050\u001b[0m/\n",
            "'MTech 2k15-17 batch Farewell.mp4'\n",
            "\u001b[01;34m'NG Machine Learning'\u001b[0m/\n",
            "'Nishith Kotak_201511056_Verse.pdf'\n",
            "'Nishith Kotak_MU.pdf'\n",
            "'Nishith_tencon paper.pdf'\n",
            "'NISHIT KOTAK AHME,  3 pax from 20,05,19 to 27,05,19 for 7nights,8days.gdoc'\n",
            "'NOV 08.rar'\n",
            "\u001b[01;34m'Offer Letters'\u001b[0m/\n",
            "'Open Silicon Registrations.gform'\n",
            "'Open Silicon Registrations (Responses).gsheet'\n",
            "\u001b[01;34m'Personal documents'\u001b[0m/\n",
            "'PILL DEPENSER BOTTOM_with Name and usb.3dm'\n",
            "'PILL DEPENSER BOTTOM with name and usb.stl'\n",
            " \u001b[01;34mProject\u001b[0m/\n",
            " Rampage.mp4\n",
            "'R basics_Quiz 1.gform'\n",
            "'R basics_Quiz 1 (Responses).gsheet'\n",
            "'Resume_Nishith Kotak_Aspiring Minds.pdf'\n",
            " \u001b[01;34mSir\u001b[0m/\n",
            "'Slot for Lab Viva.gform'\n",
            "\u001b[01;34m'Smart City'\u001b[0m/\n",
            " \u001b[01;34mSmart_City_LAB\u001b[0m/\n",
            "'Spicejet Flight Notification (1).pdf'\n",
            "'Spicejet Flight Notification (2).pdf'\n",
            "'Spicejet Flight Notification.pdf'\n",
            "'Sprinklr Internship Registration (Responses).xlsx'\n",
            " Sprinklr_Registration.xlsx\n",
            "'Stage 2.rar'\n",
            " TA_IT477.gsheet\n",
            " TASM.zip\n",
            " \u001b[01;34mTechSmith\u001b[0m/\n",
            " \u001b[01;34mThesis\u001b[0m/\n",
            "'To-do list.gsheet'\n",
            "'Untitled document.gdoc'\n",
            "'Untitled form (1).gform'\n",
            "'Untitled form (2).gform'\n",
            "'Untitled form (3).gform'\n",
            "'Untitled form (4).gform'\n",
            "'Untitled form (5).gform'\n",
            "'Untitled form (6).gform'\n",
            "'Untitled form.gform'\n",
            "'Untitled form (Responses) (1).gsheet'\n",
            "'Untitled form (Responses).gsheet'\n",
            "'Untitled spreadsheet (1).gsheet'\n",
            "'Untitled spreadsheet (2).gsheet'\n",
            "'Untitled spreadsheet (3).gsheet'\n",
            "'Untitled spreadsheet (4).gsheet'\n",
            "'Untitled spreadsheet (5).gsheet'\n",
            "'Untitled spreadsheet.gsheet'\n",
            "'WATER MONITORIN-WPS Office.doc'\n",
            "'WATER MONITORIN-WPS Office.gdoc'\n"
          ],
          "name": "stdout"
        }
      ]
    },
    {
      "cell_type": "code",
      "metadata": {
        "id": "JG2Cp7fcaSrB",
        "colab_type": "code",
        "outputId": "42ab35b9-b6d0-4320-c6a7-b1592f4abaea",
        "colab": {
          "base_uri": "https://localhost:8080/",
          "height": 268
        }
      },
      "source": [
        "#columnname=['x','y']\n",
        "dataset=pd.read_csv(\"NG Machine Learning/train.csv\")\n",
        "print(dataset)\n",
        "dataset.shape"
      ],
      "execution_count": 0,
      "outputs": [
        {
          "output_type": "stream",
          "text": [
            "        x          y\n",
            "0    24.0  21.549452\n",
            "1    50.0  47.464463\n",
            "2    15.0  17.218656\n",
            "3    38.0  36.586398\n",
            "4    87.0  87.288984\n",
            "..    ...        ...\n",
            "695  58.0  58.595006\n",
            "696  93.0  94.625094\n",
            "697  82.0  88.603770\n",
            "698  66.0  63.648685\n",
            "699  97.0  94.975266\n",
            "\n",
            "[700 rows x 2 columns]\n"
          ],
          "name": "stdout"
        },
        {
          "output_type": "execute_result",
          "data": {
            "text/plain": [
              "(700, 2)"
            ]
          },
          "metadata": {
            "tags": []
          },
          "execution_count": 87
        }
      ]
    },
    {
      "cell_type": "code",
      "metadata": {
        "id": "t7bL6XSoxLNH",
        "colab_type": "code",
        "outputId": "c7ef0dd9-226a-4a52-fb81-19090fe69694",
        "colab": {
          "base_uri": "https://localhost:8080/",
          "height": 33
        }
      },
      "source": [
        "type(dataset)"
      ],
      "execution_count": 0,
      "outputs": [
        {
          "output_type": "execute_result",
          "data": {
            "text/plain": [
              "pandas.core.frame.DataFrame"
            ]
          },
          "metadata": {
            "tags": []
          },
          "execution_count": 88
        }
      ]
    },
    {
      "cell_type": "code",
      "metadata": {
        "id": "E2ic_ZDMe8iP",
        "colab_type": "code",
        "outputId": "0eae3f57-a2c0-482d-e284-c8e7a743abfd",
        "colab": {
          "base_uri": "https://localhost:8080/",
          "height": 286
        }
      },
      "source": [
        "dataset.describe()"
      ],
      "execution_count": 0,
      "outputs": [
        {
          "output_type": "execute_result",
          "data": {
            "text/html": [
              "<div>\n",
              "<style scoped>\n",
              "    .dataframe tbody tr th:only-of-type {\n",
              "        vertical-align: middle;\n",
              "    }\n",
              "\n",
              "    .dataframe tbody tr th {\n",
              "        vertical-align: top;\n",
              "    }\n",
              "\n",
              "    .dataframe thead th {\n",
              "        text-align: right;\n",
              "    }\n",
              "</style>\n",
              "<table border=\"1\" class=\"dataframe\">\n",
              "  <thead>\n",
              "    <tr style=\"text-align: right;\">\n",
              "      <th></th>\n",
              "      <th>x</th>\n",
              "      <th>y</th>\n",
              "    </tr>\n",
              "  </thead>\n",
              "  <tbody>\n",
              "    <tr>\n",
              "      <th>count</th>\n",
              "      <td>700.000000</td>\n",
              "      <td>699.000000</td>\n",
              "    </tr>\n",
              "    <tr>\n",
              "      <th>mean</th>\n",
              "      <td>54.985939</td>\n",
              "      <td>49.939869</td>\n",
              "    </tr>\n",
              "    <tr>\n",
              "      <th>std</th>\n",
              "      <td>134.681703</td>\n",
              "      <td>29.109217</td>\n",
              "    </tr>\n",
              "    <tr>\n",
              "      <th>min</th>\n",
              "      <td>0.000000</td>\n",
              "      <td>-3.839981</td>\n",
              "    </tr>\n",
              "    <tr>\n",
              "      <th>25%</th>\n",
              "      <td>25.000000</td>\n",
              "      <td>24.929968</td>\n",
              "    </tr>\n",
              "    <tr>\n",
              "      <th>50%</th>\n",
              "      <td>49.000000</td>\n",
              "      <td>48.973020</td>\n",
              "    </tr>\n",
              "    <tr>\n",
              "      <th>75%</th>\n",
              "      <td>75.000000</td>\n",
              "      <td>74.929911</td>\n",
              "    </tr>\n",
              "    <tr>\n",
              "      <th>max</th>\n",
              "      <td>3530.157369</td>\n",
              "      <td>108.871618</td>\n",
              "    </tr>\n",
              "  </tbody>\n",
              "</table>\n",
              "</div>"
            ],
            "text/plain": [
              "                 x           y\n",
              "count   700.000000  699.000000\n",
              "mean     54.985939   49.939869\n",
              "std     134.681703   29.109217\n",
              "min       0.000000   -3.839981\n",
              "25%      25.000000   24.929968\n",
              "50%      49.000000   48.973020\n",
              "75%      75.000000   74.929911\n",
              "max    3530.157369  108.871618"
            ]
          },
          "metadata": {
            "tags": []
          },
          "execution_count": 89
        }
      ]
    },
    {
      "cell_type": "code",
      "metadata": {
        "id": "PjKQSYYyfIaL",
        "colab_type": "code",
        "outputId": "a23f6c54-dd10-4f73-f721-5e21e8dac73c",
        "colab": {
          "base_uri": "https://localhost:8080/",
          "height": 404
        }
      },
      "source": [
        "x_value = dataset.iloc[0:700,0:1]\n",
        "x_value"
      ],
      "execution_count": 0,
      "outputs": [
        {
          "output_type": "execute_result",
          "data": {
            "text/html": [
              "<div>\n",
              "<style scoped>\n",
              "    .dataframe tbody tr th:only-of-type {\n",
              "        vertical-align: middle;\n",
              "    }\n",
              "\n",
              "    .dataframe tbody tr th {\n",
              "        vertical-align: top;\n",
              "    }\n",
              "\n",
              "    .dataframe thead th {\n",
              "        text-align: right;\n",
              "    }\n",
              "</style>\n",
              "<table border=\"1\" class=\"dataframe\">\n",
              "  <thead>\n",
              "    <tr style=\"text-align: right;\">\n",
              "      <th></th>\n",
              "      <th>x</th>\n",
              "    </tr>\n",
              "  </thead>\n",
              "  <tbody>\n",
              "    <tr>\n",
              "      <th>0</th>\n",
              "      <td>24.0</td>\n",
              "    </tr>\n",
              "    <tr>\n",
              "      <th>1</th>\n",
              "      <td>50.0</td>\n",
              "    </tr>\n",
              "    <tr>\n",
              "      <th>2</th>\n",
              "      <td>15.0</td>\n",
              "    </tr>\n",
              "    <tr>\n",
              "      <th>3</th>\n",
              "      <td>38.0</td>\n",
              "    </tr>\n",
              "    <tr>\n",
              "      <th>4</th>\n",
              "      <td>87.0</td>\n",
              "    </tr>\n",
              "    <tr>\n",
              "      <th>...</th>\n",
              "      <td>...</td>\n",
              "    </tr>\n",
              "    <tr>\n",
              "      <th>695</th>\n",
              "      <td>58.0</td>\n",
              "    </tr>\n",
              "    <tr>\n",
              "      <th>696</th>\n",
              "      <td>93.0</td>\n",
              "    </tr>\n",
              "    <tr>\n",
              "      <th>697</th>\n",
              "      <td>82.0</td>\n",
              "    </tr>\n",
              "    <tr>\n",
              "      <th>698</th>\n",
              "      <td>66.0</td>\n",
              "    </tr>\n",
              "    <tr>\n",
              "      <th>699</th>\n",
              "      <td>97.0</td>\n",
              "    </tr>\n",
              "  </tbody>\n",
              "</table>\n",
              "<p>700 rows × 1 columns</p>\n",
              "</div>"
            ],
            "text/plain": [
              "        x\n",
              "0    24.0\n",
              "1    50.0\n",
              "2    15.0\n",
              "3    38.0\n",
              "4    87.0\n",
              "..    ...\n",
              "695  58.0\n",
              "696  93.0\n",
              "697  82.0\n",
              "698  66.0\n",
              "699  97.0\n",
              "\n",
              "[700 rows x 1 columns]"
            ]
          },
          "metadata": {
            "tags": []
          },
          "execution_count": 90
        }
      ]
    },
    {
      "cell_type": "code",
      "metadata": {
        "id": "ebdC53A1gp1P",
        "colab_type": "code",
        "outputId": "d20ec926-77dc-4804-bf1d-bbeaa7e435cc",
        "colab": {
          "base_uri": "https://localhost:8080/",
          "height": 404
        }
      },
      "source": [
        "y_value = dataset.iloc[0:700,1:2]\n",
        "y_value"
      ],
      "execution_count": 0,
      "outputs": [
        {
          "output_type": "execute_result",
          "data": {
            "text/html": [
              "<div>\n",
              "<style scoped>\n",
              "    .dataframe tbody tr th:only-of-type {\n",
              "        vertical-align: middle;\n",
              "    }\n",
              "\n",
              "    .dataframe tbody tr th {\n",
              "        vertical-align: top;\n",
              "    }\n",
              "\n",
              "    .dataframe thead th {\n",
              "        text-align: right;\n",
              "    }\n",
              "</style>\n",
              "<table border=\"1\" class=\"dataframe\">\n",
              "  <thead>\n",
              "    <tr style=\"text-align: right;\">\n",
              "      <th></th>\n",
              "      <th>y</th>\n",
              "    </tr>\n",
              "  </thead>\n",
              "  <tbody>\n",
              "    <tr>\n",
              "      <th>0</th>\n",
              "      <td>21.549452</td>\n",
              "    </tr>\n",
              "    <tr>\n",
              "      <th>1</th>\n",
              "      <td>47.464463</td>\n",
              "    </tr>\n",
              "    <tr>\n",
              "      <th>2</th>\n",
              "      <td>17.218656</td>\n",
              "    </tr>\n",
              "    <tr>\n",
              "      <th>3</th>\n",
              "      <td>36.586398</td>\n",
              "    </tr>\n",
              "    <tr>\n",
              "      <th>4</th>\n",
              "      <td>87.288984</td>\n",
              "    </tr>\n",
              "    <tr>\n",
              "      <th>...</th>\n",
              "      <td>...</td>\n",
              "    </tr>\n",
              "    <tr>\n",
              "      <th>695</th>\n",
              "      <td>58.595006</td>\n",
              "    </tr>\n",
              "    <tr>\n",
              "      <th>696</th>\n",
              "      <td>94.625094</td>\n",
              "    </tr>\n",
              "    <tr>\n",
              "      <th>697</th>\n",
              "      <td>88.603770</td>\n",
              "    </tr>\n",
              "    <tr>\n",
              "      <th>698</th>\n",
              "      <td>63.648685</td>\n",
              "    </tr>\n",
              "    <tr>\n",
              "      <th>699</th>\n",
              "      <td>94.975266</td>\n",
              "    </tr>\n",
              "  </tbody>\n",
              "</table>\n",
              "<p>700 rows × 1 columns</p>\n",
              "</div>"
            ],
            "text/plain": [
              "             y\n",
              "0    21.549452\n",
              "1    47.464463\n",
              "2    17.218656\n",
              "3    36.586398\n",
              "4    87.288984\n",
              "..         ...\n",
              "695  58.595006\n",
              "696  94.625094\n",
              "697  88.603770\n",
              "698  63.648685\n",
              "699  94.975266\n",
              "\n",
              "[700 rows x 1 columns]"
            ]
          },
          "metadata": {
            "tags": []
          },
          "execution_count": 91
        }
      ]
    },
    {
      "cell_type": "code",
      "metadata": {
        "id": "A6Pt0TFLgwat",
        "colab_type": "code",
        "outputId": "2f01388f-4524-4fa4-8c62-078af2c7e797",
        "colab": {
          "base_uri": "https://localhost:8080/",
          "height": 84
        }
      },
      "source": [
        "print(\"Mean of x values is %f and median is %f\\n\" % (np.mean(x_value), np.median(x_value)))\n",
        "print(\"Mean of y values is %f and median is %f\\n\" % (np.mean(y_value), np.median(y_value)))"
      ],
      "execution_count": 0,
      "outputs": [
        {
          "output_type": "stream",
          "text": [
            "Mean of x values is 54.985939 and median is 49.000000\n",
            "\n",
            "Mean of y values is 49.939869 and median is nan\n",
            "\n"
          ],
          "name": "stdout"
        }
      ]
    },
    {
      "cell_type": "code",
      "metadata": {
        "id": "_WXpFAUJorBR",
        "colab_type": "code",
        "outputId": "2346c2d3-f11d-427b-daee-1ce0d27f23d3",
        "colab": {
          "base_uri": "https://localhost:8080/",
          "height": 318
        }
      },
      "source": [
        "import matplotlib.pyplot as plt\n",
        "plt.scatter(x_value,y_value)\n",
        "plt.xticks(np.arange(5,100,step=5))\n",
        "plt.yticks(np.arange(-5,100,step=5))\n",
        "plt.xlabel(\"Population of City (10,000s)\")\n",
        "plt.ylabel(\"Profit ($10,000\")\n",
        "plt.title(\"Profit Vs Population\")"
      ],
      "execution_count": 0,
      "outputs": [
        {
          "output_type": "execute_result",
          "data": {
            "text/plain": [
              "Text(0.5, 1.0, 'Profit Vs Population')"
            ]
          },
          "metadata": {
            "tags": []
          },
          "execution_count": 93
        },
        {
          "output_type": "display_data",
          "data": {
            "image/png": "[encoded data removed]",
            "text/plain": [
              "<Figure size 432x288 with 1 Axes>"
            ]
          },
          "metadata": {
            "tags": []
          }
        }
      ]
    },
    {
      "cell_type": "code",
      "metadata": {
        "id": "GAFQAFX7LF0m",
        "colab_type": "code",
        "outputId": "27ac0de1-65ce-4e99-d29c-43f0191a30fe",
        "colab": {
          "base_uri": "https://localhost:8080/",
          "height": 268
        }
      },
      "source": [
        "import seaborn as sns       #boxplot to see outliers data\n",
        "sns.set(style=\"whitegrid\")\n",
        "ax = sns.boxplot(x_value)"
      ],
      "execution_count": 0,
      "outputs": [
        {
          "output_type": "display_data",
          "data": {
            "image/png": "[encoded data removed]",
            "text/plain": [
              "<Figure size 432x288 with 1 Axes>"
            ]
          },
          "metadata": {
            "tags": []
          }
        }
      ]
    },
    {
      "cell_type": "code",
      "metadata": {
        "id": "Ef5c3lfbN4sH",
        "colab_type": "code",
        "outputId": "7827fe76-149f-41a6-d241-a3f7f5fe4e5b",
        "colab": {
          "base_uri": "https://localhost:8080/",
          "height": 268
        }
      },
      "source": [
        "sns.set(style=\"whitegrid\")\n",
        "ay = sns.boxplot(y_value)"
      ],
      "execution_count": 0,
      "outputs": [
        {
          "output_type": "display_data",
          "data": {
            "image/png": "[encoded data removed]",
            "text/plain": [
              "<Figure size 432x288 with 1 Axes>"
            ]
          },
          "metadata": {
            "tags": []
          }
        }
      ]
    },
    {
      "cell_type": "code",
      "metadata": {
        "id": "p2kAsOb4On3H",
        "colab_type": "code",
        "colab": {}
      },
      "source": [
        "#define hypothesis\n",
        "def hypothesis(theta_array, x):\n",
        "    # Returns value of hypothesis at the point corresponding to the 'x' entry\n",
        "    # H(x) = theta_0 + theta_1*x\n",
        "    return theta_array[0] + theta_array[1]*x"
      ],
      "execution_count": 0,
      "outputs": []
    },
    {
      "cell_type": "code",
      "metadata": {
        "id": "bWupK2bNO4fi",
        "colab_type": "code",
        "colab": {}
      },
      "source": [
        "#define cost function\n",
        "def cost_function(theta_array, x_value, y_value, m):\n",
        "    # This function returns our cost function value at particular theta values\n",
        "    total_error = 0\n",
        "    for i in range(m):\n",
        "        total_error += (theta_array[0] + theta_array[1]*x_value[i] - y_value[i])**2\n",
        "    return total_error/(2*m)"
      ],
      "execution_count": 0,
      "outputs": []
    },
    {
      "cell_type": "code",
      "metadata": {
        "id": "BJ_UyKYxPVS8",
        "colab_type": "code",
        "colab": {}
      },
      "source": [
        "#initialize regularization parameters\n",
        "# initializing values of thetas\n",
        "    theta_0 = 0  # bias\n",
        "    theta_1 = 0  # weight\n",
        "    \n",
        "    # defining a learning rate\n",
        "    alpha = 0.0005\n",
        "\n",
        "    # Setting the number of iterations\n",
        "    iters = 50"
      ],
      "execution_count": 0,
      "outputs": []
    },
    {
      "cell_type": "code",
      "metadata": {
        "id": "7Erw99b7Pgvc",
        "colab_type": "code",
        "colab": {}
      },
      "source": [
        "#minimizing cost function error\n",
        "def training(x_train, y_train, alpha, iters):\n",
        "    # This is the function which takes care of the Regression\n",
        "\n",
        "    # Finding size of the training data\n",
        "    m = x_train.size\n",
        "\n",
        "    # initializing values of thetas\n",
        "    theta_0 = 0     # bias\n",
        "    theta_1 = 0     # weight\n",
        "\n",
        "    # creating a weight matrix which contains both theta_0 and theta_1\n",
        "    theta_array = [theta_0, theta_1]\n",
        "\n",
        "    # creating an array that stores the values of the cost function during each iteration\n",
        "    cost_function_values = []\n",
        "\n",
        "    for i in range(iters):\n",
        "        # changing the values of theta 0 and theta 1 according to the gradient descent method\n",
        "        theta_array = improvise_thetas(theta_array, x_train, y_train, alpha, m)\n",
        "\n",
        "        # storing values of the cost function after every improvisation step (gradient descent step)\n",
        "        cost_function_values.append(cost_function(theta_array, x_train, y_train, m))\n",
        "\n",
        "        # print values every 10 iterations\n",
        "        if i % 10 == 0:\n",
        "            print('value of theta_0 at iteration %d is: ' % i, theta_array[0])\n",
        "            print('value of theta_1 at iteration %d is: ' % i, theta_array[1], '\\n')\n",
        "            ynew=x_train*theta_array[1]+theta_array[0]\n",
        "            plt.plot(x_train,ynew,'r')\n",
        "            plt.scatter(x_train,y_train)\n",
        "            plt.show()\n",
        "\n",
        "    # Plot our cost function's progress over our training period to check if the model has learnt\n",
        "    x = np.arange(0, len(cost_function_values), step=1)\n",
        "    plt.plot(x, cost_function_values, \"-b\", label=\"Cost Function Curve\")\n",
        "    plt.title(\"Learning Curve\")\n",
        "    plt.xlabel(\"Number Of Iterations\")\n",
        "    plt.ylabel(\"Cost Function Value\")\n",
        "    plt.legend()\n",
        "    plt.show()\n",
        "    print(\"Cost function values: \",cost_function_values)\n",
        "    # By returning our theta_array and saving it we are basically saving our trained model\n",
        "    return theta_array"
      ],
      "execution_count": 0,
      "outputs": []
    },
    {
      "cell_type": "code",
      "metadata": {
        "id": "0uGGzKHGPwyj",
        "colab_type": "code",
        "colab": {}
      },
      "source": [
        "#update the values of theta by gradient descent\n",
        "def improvise_thetas(theta_array, X, Y, alpha, m):\n",
        "    ''' This function updates the values of theta_0 and theta_1 and returns an array containing\n",
        "            the updated theta values. This is where gradient descent takes place '''\n",
        "\n",
        "    # initializing summations to zero\n",
        "    summation_0 = 0\n",
        "    summation_1 = 0\n",
        "\n",
        "    for i in range(m):        # finding the value of summations and finally the value of\n",
        "        summation_0 += (theta_array[0] + theta_array[1]*X[i]) - Y[i]\n",
        "\n",
        "        summation_1 += X[i]*((theta_array[0] + theta_array[1]*X[i])-Y[i])\n",
        "\n",
        "    new_theta_0 = theta_array[0] - alpha * (summation_0) / m\n",
        "\n",
        "    new_theta_1 = theta_array[1] - alpha * (summation_1) / m\n",
        "\n",
        "    updated_theta_array = [new_theta_0, new_theta_1]\n",
        "    print(updated_theta_array)\n",
        "    return updated_theta_array"
      ],
      "execution_count": 0,
      "outputs": []
    },
    {
      "cell_type": "code",
      "metadata": {
        "id": "k_VWDdKRnFFS",
        "colab_type": "code",
        "outputId": "24383eb3-d9ca-4262-8271-96ab464a0c45",
        "colab": {
          "base_uri": "https://localhost:8080/",
          "height": 84
        }
      },
      "source": [
        "raw_training_data = pd.read_csv(\"NG Machine Learning/train.csv\")\n",
        "cleaned_training_data = raw_training_data.dropna()  # Cleaning the data by removing the rows with \"NaN\" values in them. dropna() does the job Not avalable values\n",
        "x_train_new = cleaned_training_data.as_matrix(columns=['x'])\n",
        "y_train_new = cleaned_training_data.as_matrix(columns=['y'])\n",
        "\n",
        "# reshaping the data from (699,1) to (699)\n",
        "x_train = x_train_new.reshape(x_train_new.size)     #converting from column matrix to row matrix\n",
        "y_train = y_train_new.reshape(y_train_new.size)"
      ],
      "execution_count": 0,
      "outputs": [
        {
          "output_type": "stream",
          "text": [
            "/usr/local/lib/python3.6/dist-packages/ipykernel_launcher.py:3: FutureWarning: Method .as_matrix will be removed in a future version. Use .values instead.\n",
            "  This is separate from the ipykernel package so we can avoid doing imports until\n",
            "/usr/local/lib/python3.6/dist-packages/ipykernel_launcher.py:4: FutureWarning: Method .as_matrix will be removed in a future version. Use .values instead.\n",
            "  after removing the cwd from sys.path.\n"
          ],
          "name": "stderr"
        }
      ]
    },
    {
      "cell_type": "code",
      "metadata": {
        "id": "xvx6Nunl8xXn",
        "colab_type": "code",
        "outputId": "7d174ead-cb50-4ddf-9df6-617f6397f57b",
        "colab": {
          "base_uri": "https://localhost:8080/",
          "height": 33
        }
      },
      "source": [
        "type(x_train_new)"
      ],
      "execution_count": 0,
      "outputs": [
        {
          "output_type": "execute_result",
          "data": {
            "text/plain": [
              "numpy.ndarray"
            ]
          },
          "metadata": {
            "tags": []
          },
          "execution_count": 111
        }
      ]
    },
    {
      "cell_type": "code",
      "metadata": {
        "id": "MkXpvK55nu_Q",
        "colab_type": "code",
        "outputId": "0e5ba949-ee22-4c9e-8e13-06d83183a797",
        "colab": {
          "base_uri": "https://localhost:8080/",
          "height": 1000
        }
      },
      "source": [
        "    # training time!\n",
        "theta_array = training(x_train, y_train, alpha, iters)\n",
        "\n",
        "print(\"\\n*** The final value of theta_0 is \",theta_array[0],\" and theta_1 is \",theta_array[1],\" ***\\n\")\n"
      ],
      "execution_count": 0,
      "outputs": [
        {
          "output_type": "stream",
          "text": [
            "[0.024969934585228885, 1.6677122922592695]\n",
            "value of theta_0 at iteration 0 is:  0.024969934585228885\n",
            "value of theta_1 at iteration 0 is:  1.6677122922592695 \n",
            "\n"
          ],
          "name": "stdout"
        },
        {
          "output_type": "display_data",
          "data": {
            "image/png": "[encoded data removed]",
            "text/plain": [
              "<Figure size 432x288 with 1 Axes>"
            ]
          },
          "metadata": {
            "tags": []
          }
        },
        {
          "output_type": "stream",
          "text": [
            "[0.008222647624206623, 0.5508896981718201]\n",
            "[0.019412287875547014, 1.2987967439428518]\n",
            "[0.01189330732667928, 0.7979434861386835]\n",
            "[0.01690300035451925, 1.1333520983147873]\n",
            "[0.013522574028208252, 0.9087381719133643]\n",
            "[0.01576079275554235, 1.0591565827571774]\n",
            "[0.01423635614811957, 0.9584257195346835]\n",
            "[0.015231673875065159, 1.0258829072341247]\n",
            "[0.014539581724282848, 0.9807089889978248]\n",
            "[0.014977506707945776, 1.0109611544891928]\n",
            "value of theta_0 at iteration 10 is:  0.014977506707945776\n",
            "value of theta_1 at iteration 10 is:  1.0109611544891928 \n",
            "\n"
          ],
          "name": "stdout"
        },
        {
          "output_type": "display_data",
          "data": {
            "image/png": "[encoded data removed]",
            "text/plain": [
              "<Figure size 432x288 with 1 Axes>"
            ]
          },
          "metadata": {
            "tags": []
          }
        },
        {
          "output_type": "stream",
          "text": [
            "[0.014658692195799114, 0.9907024591641626]\n",
            "[0.014846649386018007, 1.0042695563008357]\n",
            "[0.014695238122750453, 0.9951844114995393]\n",
            "[0.014771096171876564, 1.0012688761815427]\n",
            "[0.014694761152290818, 0.9971946530692006]\n",
            "[0.014720349021250256, 0.9999234354397591]\n",
            "[0.01467768501782405, 0.9980964242520746]\n",
            "[0.014680730694841227, 0.9993203079156313]\n",
            "[0.014653169002898335, 0.9985010876415362]\n",
            "[0.014646107458598526, 0.9990500801900452]\n",
            "value of theta_0 at iteration 20 is:  0.014646107458598526\n",
            "value of theta_1 at iteration 20 is:  0.9990500801900452 \n",
            "\n"
          ],
          "name": "stdout"
        },
        {
          "output_type": "display_data",
          "data": {
            "image/png": "[encoded data removed]",
            "text/plain": [
              "<Figure size 432x288 with 1 Axes>"
            ]
          },
          "metadata": {
            "tags": []
          }
        },
        {
          "output_type": "stream",
          "text": [
            "[0.01462532070437282, 0.9986828166162253]\n",
            "[0.014613728559933913, 0.9989291455759388]\n",
            "[0.01459598222556466, 0.9987645677364143]\n",
            "[0.01458236038758847, 0.998875163304895]\n",
            "[0.014565979680220763, 0.998801482445052]\n",
            "[0.014551449711747592, 0.9988512066056152]\n",
            "[0.014535683548563888, 0.9988182896278914]\n",
            "[0.014520748428362507, 0.9988407151949741]\n",
            "[0.014505259976132378, 0.9988260792702203]\n",
            "[0.014490145270939088, 0.998836262402097]\n",
            "value of theta_0 at iteration 30 is:  0.014490145270939088\n",
            "value of theta_1 at iteration 30 is:  0.998836262402097 \n",
            "\n"
          ],
          "name": "stdout"
        },
        {
          "output_type": "display_data",
          "data": {
            "image/png": "[encoded data removed]",
            "text/plain": [
              "<Figure size 432x288 with 1 Axes>"
            ]
          },
          "metadata": {
            "tags": []
          }
        },
        {
          "output_type": "stream",
          "text": [
            "[0.014474783471960764, 0.9988298248178761]\n",
            "[0.01445959033953598, 0.9988345176414071]\n",
            "[0.01444428744952101, 0.9988317566763054]\n",
            "[0.014429061254827983, 0.9988339872691963]\n",
            "[0.014413786892454431, 0.9988328750993896]\n",
            "[0.01439854797946267, 0.9988340014418455]\n",
            "[0.01438328851930919, 0.9988336286637974]\n",
            "[0.014368046011003499, 0.9988342597594276]\n",
            "[0.014352795342046932, 0.998834218539493]\n",
            "[0.014337553329218058, 0.998834627503767]\n",
            "value of theta_0 at iteration 40 is:  0.014337553329218058\n",
            "value of theta_1 at iteration 40 is:  0.998834627503767 \n",
            "\n"
          ],
          "name": "stdout"
        },
        {
          "output_type": "display_data",
          "data": {
            "image/png": "[encoded data removed]",
            "text/plain": [
              "<Figure size 432x288 with 1 Axes>"
            ]
          },
          "metadata": {
            "tags": []
          }
        },
        {
          "output_type": "stream",
          "text": [
            "[0.014322308710363399, 0.998834734943736]\n",
            "[0.014307069027050414, 0.9988350442587896]\n",
            "[0.014291829228490191, 0.9988352183356274]\n",
            "[0.014276592696663119, 0.9988354829301497]\n",
            "[0.014261357166346238, 0.9988356868595846]\n",
            "[0.01424612415409992, 0.9988359313670568]\n",
            "[0.014230892643923937, 0.9988361486527195]\n",
            "[0.014215663315807215, 0.9988363841203497]\n",
            "[0.014200435713979479, 0.99883660736424]\n"
          ],
          "name": "stdout"
        },
        {
          "output_type": "display_data",
          "data": {
            "image/png": "[encoded data removed]",
            "text/plain": [
              "<Figure size 432x288 with 1 Axes>"
            ]
          },
          "metadata": {
            "tags": []
          }
        },
        {
          "output_type": "stream",
          "text": [
            "Cost function values:  [751.1315727959025, 339.0252776216905, 154.2109355552953, 71.32857852216124, 34.15892460395281, 17.489717384542462, 10.01419783210932, 6.6617051658959525, 5.158236669372401, 4.483986723829211, 4.181610449072815, 4.046005680924123, 3.985191729158383, 3.9579186761646357, 3.9456874685137873, 3.940201968962581, 3.9377416685983704, 3.9366380575877757, 3.936142871344035, 3.9359205410376394, 3.935820576532698, 3.9357754886019083, 3.9357550108376396, 3.9357455698820267, 3.9357410785890186, 3.935738807100083, 3.9357375311751848, 3.9357367017882194, 3.935736072721355, 3.9357355335550763, 3.9357350347702913, 3.9357345541595308, 3.935734081763553, 3.9357336131159952, 3.9357331462138245, 3.9357326801587655, 3.9357322145479356, 3.935731749200657, 3.935731284035887, 3.9357308190172526, 3.935730354128427, 3.9357298893620785, 3.9357294247149026, 3.9357289601854037, 3.935728495772894, 3.9357280314770455, 3.9357275672976844, 3.9357271032347447, 3.9357266392881574, 3.935726175457869]\n",
            "\n",
            "*** The final value of theta_0 is  0.014200435713979479  and theta_1 is  0.99883660736424  ***\n",
            "\n"
          ],
          "name": "stdout"
        }
      ]
    },
    {
      "cell_type": "code",
      "metadata": {
        "id": "-PNR1GX7qxjr",
        "colab_type": "code",
        "outputId": "6bb0db4c-1a4c-412d-8690-15971de7ed5b",
        "colab": {
          "base_uri": "https://localhost:8080/",
          "height": 285
        }
      },
      "source": [
        "ynew=x_train*theta_array[1]+theta_array[0]\n",
        "plt.plot(x_train,ynew,'r')\n",
        "plt.scatter(x_train,y_train)"
      ],
      "execution_count": 0,
      "outputs": [
        {
          "output_type": "execute_result",
          "data": {
            "text/plain": [
              "<matplotlib.collections.PathCollection at 0x7f6527968710>"
            ]
          },
          "metadata": {
            "tags": []
          },
          "execution_count": 103
        },
        {
          "output_type": "display_data",
          "data": {
            "image/png": "[encoded data removed]",
            "text/plain": [
              "<Figure size 432x288 with 1 Axes>"
            ]
          },
          "metadata": {
            "tags": []
          }
        }
      ]
    },
    {
      "cell_type": "code",
      "metadata": {
        "id": "hN7QBGPut-1Z",
        "colab_type": "code",
        "colab": {}
      },
      "source": [
        "def testing(x_test, y_test, theta_array) :\n",
        "    '''function where testing is done and the mean squared error is found'''\n",
        "    m = x_test.size\n",
        "\n",
        "    SSTO = []   # total sum of squares\n",
        "    SSR = []    # regression sum of squares\n",
        "    SSE = []    # error sum of squares\n",
        "    y_mean = np.mean(y_train)\n",
        "\n",
        "    for i in range(m):\n",
        "        prediction = hypothesis(theta_array, x_test[i])  # value of prediction (value of hypothesis at point i)\n",
        "        y_i = y_test[i]                             # value of 'y' at point i\n",
        "        SSE.append((prediction - y_i)**2)           # sum of values in the array is SSE (error sum of squares)\n",
        "        SSR.append((prediction - y_mean)**2)        # sum of values in the array is SSR (regression sum of squares)\n",
        "        SSTO.append((y_i - y_mean)**2)              # sum of values in the array is SSTO (total sum of squares)\n",
        "\n",
        "    print('\\naverage error is : ', sum(SSE)/len(SSE))\n",
        "    print('\\nsum of squares of error (SSE) : ', sum(SSE))\n",
        "    print('\\nregression sum of squares (SSR) : ', sum(SSR))\n",
        "    print('\\ntotal sum of squares (SSTO) : ', sum(SSTO))\n",
        "    print('\\nThe Coefficient Of Determination R-squared is : ', (sum(SSR)/sum(SSTO))*100,'%')\n"
      ],
      "execution_count": 0,
      "outputs": []
    },
    {
      "cell_type": "code",
      "metadata": {
        "id": "i4EdR2NmvnaK",
        "colab_type": "code",
        "outputId": "d72c5f89-ac11-4a5d-a6d5-9f5b345cb79a",
        "colab": {
          "base_uri": "https://localhost:8080/",
          "height": 318
        }
      },
      "source": [
        "testdata=pd.read_csv(\"NG Machine Learning/test.csv\")\n",
        "print(testdata)\n",
        "testdata.shape\n",
        "\n",
        "cleaned_testing_data = testdata.dropna()  # Cleaning the data by removing the rows with \"NaN\" values in them. dropna() does the job\n",
        "x_test1 = cleaned_training_data.as_matrix(columns=['x'])\n",
        "y_test1 = cleaned_training_data.as_matrix(columns=['y'])\n",
        "\n",
        "# reshaping the data from (699,1) to (699)\n",
        "x_test1 = x_test1.reshape(x_test1.size)\n",
        "y_test1 = y_test1.reshape(y_test1.size)"
      ],
      "execution_count": 0,
      "outputs": [
        {
          "output_type": "stream",
          "text": [
            "      x          y\n",
            "0    77  79.775152\n",
            "1    21  23.177279\n",
            "2    22  25.609262\n",
            "3    20  17.857388\n",
            "4    36  41.849864\n",
            "..   ..        ...\n",
            "295  71  68.545888\n",
            "296  46  47.334876\n",
            "297  55  54.090637\n",
            "298  62  63.297171\n",
            "299  47  52.459467\n",
            "\n",
            "[300 rows x 2 columns]\n"
          ],
          "name": "stdout"
        },
        {
          "output_type": "stream",
          "text": [
            "/usr/local/lib/python3.6/dist-packages/ipykernel_launcher.py:6: FutureWarning: Method .as_matrix will be removed in a future version. Use .values instead.\n",
            "  \n",
            "/usr/local/lib/python3.6/dist-packages/ipykernel_launcher.py:7: FutureWarning: Method .as_matrix will be removed in a future version. Use .values instead.\n",
            "  import sys\n"
          ],
          "name": "stderr"
        }
      ]
    },
    {
      "cell_type": "code",
      "metadata": {
        "id": "j-0aNybox8Dg",
        "colab_type": "code",
        "colab": {}
      },
      "source": [
        "SSTO = []   # total sum of squares\n",
        "SSR = []    # regression sum of squares\n",
        "SSE = []    # error sum of squares\n",
        "y_mean = np.mean(y_train)"
      ],
      "execution_count": 0,
      "outputs": []
    },
    {
      "cell_type": "code",
      "metadata": {
        "id": "nTJ-HhKmyA6F",
        "colab_type": "code",
        "colab": {}
      },
      "source": [
        "\n",
        "for i in range(m):\n",
        "  prediction = hypothesis(theta_array, x_test1[i])  # value of prediction (value of hypothesis at point i)\n",
        "  y_i = y_test1[i]                             # value of 'y' at point i\n",
        "  SSE.append((prediction - y_i)**2)           # sum of values in the array is SSE (error sum of squares)\n",
        "  SSR.append((prediction - y_mean)**2)        # sum of values in the array is SSR (regression sum of squares)\n",
        "  SSTO.append((y_i - y_mean)**2)              # sum of values in the array is SSTO (total sum of squares)\n"
      ],
      "execution_count": 0,
      "outputs": []
    },
    {
      "cell_type": "code",
      "metadata": {
        "id": "3Dasivsx2cJH",
        "colab_type": "code",
        "outputId": "4a592d60-baab-4638-c6bd-f7b50c4e2797",
        "colab": {
          "base_uri": "https://localhost:8080/",
          "height": 184
        }
      },
      "source": [
        "print('\\naverage error is : ', sum(SSE)/len(SSE))\n",
        "print('\\nsum of squares of error (SSE) : ', sum(SSE))\n",
        "print('\\nregression sum of squares (SSR) : ', sum(SSR))\n",
        "print('\\ntotal sum of squares (SSTO) : ', sum(SSTO))\n",
        "print('\\nThe Coefficient Of Determination R-squared is : ', (sum(SSR)/sum(SSTO))*100,'%')       #regression coefficient"
      ],
      "execution_count": 0,
      "outputs": [
        {
          "output_type": "stream",
          "text": [
            "\n",
            "average error is :  8.060050880695881\n",
            "\n",
            "sum of squares of error (SSE) :  2418.015264208764\n",
            "\n",
            "regression sum of squares (SSR) :  235354.87402334606\n",
            "\n",
            "total sum of squares (SSTO) :  238158.9758342828\n",
            "\n",
            "The Coefficient Of Determination R-squared is :  98.82259242965172 %\n"
          ],
          "name": "stdout"
        }
      ]
    }
  ]
}